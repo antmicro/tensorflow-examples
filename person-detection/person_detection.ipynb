{
  "nbformat": 4,
  "nbformat_minor": 0,
  "metadata": {
    "colab": {
      "name": "person-detection.ipynb",
      "provenance": [],
      "collapsed_sections": []
    },
    "kernelspec": {
      "display_name": "Python 3",
      "name": "python3"
    }
  },
  "cells": [
    {
      "cell_type": "markdown",
      "metadata": {
        "id": "ueGcM4YL8vPd"
      },
      "source": [
        "![Renode](https://antmicro.com/OpenSource/assets/images/projects/renode.png)"
      ]
    },
    {
      "cell_type": "markdown",
      "metadata": {
        "id": "MaR5f_2F9HB1"
      },
      "source": [
        "## Install requirements"
      ]
    },
    {
      "cell_type": "code",
      "metadata": {
        "id": "Ma9FFgVcfeit"
      },
      "source": [
        "!pip install -q git+https://github.com/antmicro/pyrenode.git git+https://github.com/antmicro/renode-colab-tools.git Pillow\n",
        "!rm -rf renode-tflite-nrf52840-person-detection renode\n",
        "!git clone https://github.com/antmicro/renode-tflite-nrf52840-person-detection.git\n",
        "!mkdir -p renode && cd renode && tar -xzf ../renode-tflite-nrf52840-person-detection/renode-1.11.0.linux-portable.tar.gz --strip 1\n",
        "!pip install -q -r renode/tests/requirements.txt\n",
        "import os\n",
        "from renode_colab_tools import *\n",
        "os.environ['PATH'] = os.getcwd()+\"/renode:\"+os.environ['PATH']"
      ],
      "execution_count": null,
      "outputs": []
    },
    {
      "cell_type": "markdown",
      "metadata": {
        "id": "fQ0WB0AgMmQr"
      },
      "source": [
        "## Take a photo"
      ]
    },
    {
      "cell_type": "code",
      "metadata": {
        "id": "AfK8CQZthAwc"
      },
      "source": [
        "from IPython.display import Image\n",
        "photo = take_photo()\n",
        "display(Image(photo))"
      ],
      "execution_count": null,
      "outputs": []
    },
    {
      "cell_type": "markdown",
      "metadata": {
        "id": "wV8CRmmgLAIZ"
      },
      "source": [
        "## Convert the photo, required size < 4096 bytes"
      ]
    },
    {
      "cell_type": "code",
      "metadata": {
        "id": "Th-rEHmQj827"
      },
      "source": [
        "from PIL import Image\n",
        "image = Image.open('photo.jpg')\n",
        "image.thumbnail((120, 120))\n",
        "image.save('photo.jpg')"
      ],
      "execution_count": null,
      "outputs": []
    },
    {
      "cell_type": "markdown",
      "metadata": {
        "id": "v87YD5XaLM8J"
      },
      "source": [
        "## Run a person-detection example with a captured photo in Renode"
      ]
    },
    {
      "cell_type": "code",
      "metadata": {
        "id": "bXrGXLBBkOVK"
      },
      "source": [
        "from pyrenode import *\n",
        "shutdown_renode()\n",
        "connect_renode() # this sets up a log file, and clears the simulation (just in case)"
      ],
      "execution_count": null,
      "outputs": []
    },
    {
      "cell_type": "code",
      "metadata": {
        "id": "W6cc8WTPix40"
      },
      "source": [
        "import time\n",
        "tell_renode('using sysbus')\n",
        "tell_renode('mach create')\n",
        "tell_renode('machine LoadPlatformDescription @/content/renode-tflite-nrf52840-person-detection/nrf52840.repl')\n",
        "tell_renode('sysbus LoadELF @/content/renode-tflite-nrf52840-person-detection/binaries/person_detection.ino.elf')\n",
        "\n",
        "tell_renode('uart0 CreateFileBackend @uart.dump true')\n",
        "tell_renode('logLevel 3')\n",
        "tell_renode('spi2.camera ImageSource @/content/photo.jpg')\n",
        "tell_renode('s')\n",
        "time.sleep(5) #waits for creating uart.dump\n",
        "!tail -f renode/uart.dump #it takes a few minutes to get the person score"
      ],
      "execution_count": null,
      "outputs": []
    },
    {
      "cell_type": "code",
      "metadata": {
        "id": "4Hpu2hZBKnNX"
      },
      "source": [
        "tell_renode('q')\n",
        "expect_cli('Renode is quitting')\n",
        "shutdown_renode()"
      ],
      "execution_count": null,
      "outputs": []
    },
    {
      "cell_type": "markdown",
      "metadata": {
        "id": "iadl-Dr6OREJ"
      },
      "source": [
        "## Renode metrics analysis"
      ]
    },
    {
      "cell_type": "code",
      "metadata": {
        "id": "s5AcxlzJOURD"
      },
      "source": [
        "from renode.tools.metrics_analyzer.metrics_parser import MetricsParser\n",
        "\n",
        "!renode/test.sh renode-tflite-nrf52840-person-detection/arducam.robot\n",
        "init_notebook_mode(connected=False)\n",
        "parser = MetricsParser('renode/metrics.dump')"
      ],
      "execution_count": null,
      "outputs": []
    },
    {
      "cell_type": "code",
      "metadata": {
        "id": "5UZD2NIHRVIc"
      },
      "source": [
        "configure_plotly_browser_state()\n",
        "show_executed_instructions(parser)"
      ],
      "execution_count": null,
      "outputs": []
    },
    {
      "cell_type": "code",
      "metadata": {
        "id": "R12fvWivRVkW"
      },
      "source": [
        "configure_plotly_browser_state()\n",
        "show_memory_access(parser)"
      ],
      "execution_count": null,
      "outputs": []
    },
    {
      "cell_type": "code",
      "metadata": {
        "id": "kwYH8fSNRXWP"
      },
      "source": [
        "configure_plotly_browser_state()\n",
        "show_peripheral_access(parser)"
      ],
      "execution_count": null,
      "outputs": []
    },
    {
      "cell_type": "code",
      "metadata": {
        "id": "YZRsI4C-RaB7"
      },
      "source": [
        "configure_plotly_browser_state()\n",
        "show_exceptions(parser)"
      ],
      "execution_count": null,
      "outputs": []
    }
  ]
}